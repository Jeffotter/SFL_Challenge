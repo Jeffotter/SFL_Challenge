{
 "cells": [
  {
   "cell_type": "code",
   "execution_count": 72,
   "id": "8eba806b",
   "metadata": {},
   "outputs": [],
   "source": [
    "import numpy as np\n",
    "import pandas as pd\n",
    "import matplotlib.pyplot as plt\n",
    "\n",
    "import torch\n",
    "import torch.nn as nn\n",
    "from torch.autograd import Variable\n",
    "\n",
    "import torchvision\n",
    "import torchvision.transforms as transforms\n",
    "from torch.utils.data import Dataset, DataLoader\n",
    "from sklearn.metrics import confusion_matrix\n",
    "from tqdm import tqdm\n",
    "from PIL import Image"
   ]
  },
  {
   "cell_type": "code",
   "execution_count": 20,
   "id": "18eedfa4",
   "metadata": {},
   "outputs": [],
   "source": [
    "train_set = torchvision.datasets.FashionMNIST(\"./data\", download=True, transform=\n",
    "                                                transforms.Compose([transforms.ToTensor()]))\n",
    "test_set = torchvision.datasets.FashionMNIST(\"./data\", download=True, train=False, transform=\n",
    "                                               transforms.Compose([transforms.ToTensor()]))  "
   ]
  },
  {
   "cell_type": "code",
   "execution_count": 21,
   "id": "b5dc5a83",
   "metadata": {},
   "outputs": [],
   "source": [
    "train_loader = torch.utils.data.DataLoader(train_set, \n",
    "                                           batch_size=100)\n",
    "test_loader = torch.utils.data.DataLoader(test_set,\n",
    "                                          batch_size=100)"
   ]
  },
  {
   "cell_type": "code",
   "execution_count": 62,
   "id": "a0ab19f5",
   "metadata": {},
   "outputs": [
    {
     "data": {
      "text/plain": [
       "<matplotlib.image.AxesImage at 0x7fbc2221deb0>"
      ]
     },
     "execution_count": 62,
     "metadata": {},
     "output_type": "execute_result"
    },
    {
     "data": {
      "image/png": "[encoded data removed]",
      "text/plain": [
       "<Figure size 432x288 with 1 Axes>"
      ]
     },
     "metadata": {
      "needs_background": "light"
     },
     "output_type": "display_data"
    }
   ],
   "source": [
    "plt.imshow(train_set[0][0][0])"
   ]
  },
  {
   "cell_type": "code",
   "execution_count": 22,
   "id": "c4b74800",
   "metadata": {},
   "outputs": [],
   "source": [
    "def output_label(label):\n",
    "    output_mapping = {\n",
    "                 0: \"T-shirt/Top\",\n",
    "                 1: \"Trouser\",\n",
    "                 2: \"Pullover\",\n",
    "                 3: \"Dress\",\n",
    "                 4: \"Coat\", \n",
    "                 5: \"Sandal\", \n",
    "                 6: \"Shirt\",\n",
    "                 7: \"Sneaker\",\n",
    "                 8: \"Bag\",\n",
    "                 9: \"Ankle Boot\"\n",
    "                 }\n",
    "    input = (label.item() if type(label) == torch.Tensor else label)\n",
    "    return output_mapping[input]"
   ]
  },
  {
   "cell_type": "code",
   "execution_count": 23,
   "id": "eb89c1e4",
   "metadata": {},
   "outputs": [],
   "source": [
    "class FashionCNN(nn.Module):\n",
    "    \n",
    "    def __init__(self):\n",
    "        super(FashionCNN, self).__init__()\n",
    "        \n",
    "        self.layer1 = nn.Sequential(\n",
    "            nn.Conv2d(in_channels=1, out_channels=32, kernel_size=3, padding=1),\n",
    "            nn.BatchNorm2d(32),\n",
    "            nn.ReLU(),\n",
    "            nn.MaxPool2d(kernel_size=2, stride=2)\n",
    "        )\n",
    "        \n",
    "        self.layer2 = nn.Sequential(\n",
    "            nn.Conv2d(in_channels=32, out_channels=64, kernel_size=3),\n",
    "            nn.BatchNorm2d(64),\n",
    "            nn.ReLU(),\n",
    "            nn.MaxPool2d(2)\n",
    "        )\n",
    "        \n",
    "        self.fc1 = nn.Linear(in_features=64*6*6, out_features=600)\n",
    "        self.drop = nn.Dropout2d(0.25)\n",
    "        self.fc2 = nn.Linear(in_features=600, out_features=120)\n",
    "        self.fc3 = nn.Linear(in_features=120, out_features=10)\n",
    "        \n",
    "    def forward(self, x):\n",
    "        out = self.layer1(x)\n",
    "        out = self.layer2(out)\n",
    "        out = out.view(out.size(0), -1)\n",
    "        out = self.fc1(out)\n",
    "        out = self.drop(out)\n",
    "        out = self.fc2(out)\n",
    "        out = self.fc3(out)\n",
    "        \n",
    "        return out"
   ]
  },
  {
   "cell_type": "code",
   "execution_count": 24,
   "id": "547419ab",
   "metadata": {},
   "outputs": [],
   "source": [
    "device = torch.device(\"cuda\" if torch.cuda.is_available() else \"cpu\")"
   ]
  },
  {
   "cell_type": "code",
   "execution_count": 25,
   "id": "ced4b65c",
   "metadata": {},
   "outputs": [
    {
     "name": "stdout",
     "output_type": "stream",
     "text": [
      "cpu\n"
     ]
    }
   ],
   "source": [
    "print(device)"
   ]
  },
  {
   "cell_type": "code",
   "execution_count": 26,
   "id": "604bc423",
   "metadata": {},
   "outputs": [
    {
     "name": "stdout",
     "output_type": "stream",
     "text": [
      "FashionCNN(\n",
      "  (layer1): Sequential(\n",
      "    (0): Conv2d(1, 32, kernel_size=(3, 3), stride=(1, 1), padding=(1, 1))\n",
      "    (1): BatchNorm2d(32, eps=1e-05, momentum=0.1, affine=True, track_running_stats=True)\n",
      "    (2): ReLU()\n",
      "    (3): MaxPool2d(kernel_size=2, stride=2, padding=0, dilation=1, ceil_mode=False)\n",
      "  )\n",
      "  (layer2): Sequential(\n",
      "    (0): Conv2d(32, 64, kernel_size=(3, 3), stride=(1, 1))\n",
      "    (1): BatchNorm2d(64, eps=1e-05, momentum=0.1, affine=True, track_running_stats=True)\n",
      "    (2): ReLU()\n",
      "    (3): MaxPool2d(kernel_size=2, stride=2, padding=0, dilation=1, ceil_mode=False)\n",
      "  )\n",
      "  (fc1): Linear(in_features=2304, out_features=600, bias=True)\n",
      "  (drop): Dropout2d(p=0.25, inplace=False)\n",
      "  (fc2): Linear(in_features=600, out_features=120, bias=True)\n",
      "  (fc3): Linear(in_features=120, out_features=10, bias=True)\n",
      ")\n"
     ]
    }
   ],
   "source": [
    "model = FashionCNN()\n",
    "model.to(device)\n",
    "\n",
    "error = nn.CrossEntropyLoss()\n",
    "\n",
    "learning_rate = 0.001\n",
    "optimizer = torch.optim.Adam(model.parameters(), lr=learning_rate)\n",
    "print(model)\n"
   ]
  },
  {
   "cell_type": "code",
   "execution_count": 27,
   "id": "e479d75a",
   "metadata": {},
   "outputs": [
    {
     "data": {
      "text/plain": [
       "False"
      ]
     },
     "execution_count": 27,
     "metadata": {},
     "output_type": "execute_result"
    }
   ],
   "source": [
    "next(model.parameters()).is_cuda"
   ]
  },
  {
   "cell_type": "code",
   "execution_count": 32,
   "id": "4482d0cc",
   "metadata": {},
   "outputs": [
    {
     "name": "stderr",
     "output_type": "stream",
     "text": [
      "\r",
      "  0%|                                                     | 0/5 [00:00<?, ?it/s]"
     ]
    },
    {
     "name": "stdout",
     "output_type": "stream",
     "text": [
      "Iteration: 500, Loss: 0.38721176981925964, Accuracy: 89.08999633789062%\n"
     ]
    },
    {
     "name": "stderr",
     "output_type": "stream",
     "text": [
      "\r",
      " 20%|████████▊                                   | 1/5 [01:46<07:04, 106.16s/it]"
     ]
    },
    {
     "name": "stdout",
     "output_type": "stream",
     "text": [
      "Iteration: 1000, Loss: 0.2739785611629486, Accuracy: 90.29000091552734%\n"
     ]
    },
    {
     "name": "stderr",
     "output_type": "stream",
     "text": [
      "\r",
      " 40%|█████████████████▌                          | 2/5 [03:32<05:18, 106.14s/it]"
     ]
    },
    {
     "name": "stdout",
     "output_type": "stream",
     "text": [
      "Iteration: 1500, Loss: 0.26243650913238525, Accuracy: 88.4800033569336%\n"
     ]
    },
    {
     "name": "stderr",
     "output_type": "stream",
     "text": [
      "\r",
      " 60%|██████████████████████████▍                 | 3/5 [05:18<03:32, 106.12s/it]"
     ]
    },
    {
     "name": "stdout",
     "output_type": "stream",
     "text": [
      "Iteration: 2000, Loss: 0.19840511679649353, Accuracy: 89.68000030517578%\n"
     ]
    },
    {
     "name": "stderr",
     "output_type": "stream",
     "text": [
      "\r",
      " 80%|███████████████████████████████████▏        | 4/5 [07:04<01:46, 106.01s/it]"
     ]
    },
    {
     "name": "stdout",
     "output_type": "stream",
     "text": [
      "Iteration: 2500, Loss: 0.09740164875984192, Accuracy: 89.79000091552734%\n"
     ]
    },
    {
     "name": "stderr",
     "output_type": "stream",
     "text": [
      "100%|████████████████████████████████████████████| 5/5 [08:49<00:00, 105.99s/it]"
     ]
    },
    {
     "name": "stdout",
     "output_type": "stream",
     "text": [
      "Iteration: 3000, Loss: 0.16853103041648865, Accuracy: 90.0999984741211%\n"
     ]
    },
    {
     "name": "stderr",
     "output_type": "stream",
     "text": [
      "\n"
     ]
    }
   ],
   "source": [
    "num_epochs = 5\n",
    "count = 0\n",
    "# Lists for visualization of loss and accuracy \n",
    "loss_list = []\n",
    "iteration_list = []\n",
    "accuracy_list = []\n",
    "\n",
    "# Lists for knowing classwise accuracy\n",
    "predictions_list = []\n",
    "labels_list = []\n",
    "\n",
    "for epoch in tqdm(range(num_epochs)):\n",
    "    for images, labels in train_loader:\n",
    "        # Transfering images and labels to GPU if available\n",
    "        images, labels = images.to(device), labels.to(device)\n",
    "    \n",
    "        train = Variable(images.view(100, 1, 28, 28))\n",
    "        labels = Variable(labels)\n",
    "        \n",
    "        # Forward pass \n",
    "        outputs = model(train)\n",
    "        loss = error(outputs, labels)\n",
    "        \n",
    "        # Initializing a gradient as 0 so there is no mixing of gradient among the batches\n",
    "        optimizer.zero_grad()\n",
    "        \n",
    "        #Propagating the error backward\n",
    "        loss.backward()\n",
    "        \n",
    "        # Optimizing the parameters\n",
    "        optimizer.step()\n",
    "    \n",
    "        count += 1\n",
    "    \n",
    "    # Testing the model\n",
    "    \n",
    "        if not (count % 50):    # It's same as \"if count % 50 == 0\"\n",
    "            total = 0\n",
    "            correct = 0\n",
    "        \n",
    "            for images, labels in test_loader:\n",
    "                images, labels = images.to(device), labels.to(device)\n",
    "                labels_list.append(labels)\n",
    "            \n",
    "                test = Variable(images.view(100, 1, 28, 28))\n",
    "            \n",
    "                outputs = model(test)\n",
    "            \n",
    "                predictions = torch.max(outputs, 1)[1].to(device)\n",
    "                predictions_list.append(predictions)\n",
    "                correct += (predictions == labels).sum()\n",
    "            \n",
    "                total += len(labels)\n",
    "            \n",
    "            accuracy = correct * 100 / total\n",
    "            loss_list.append(loss.data)\n",
    "            iteration_list.append(count)\n",
    "            accuracy_list.append(accuracy)\n",
    "        \n",
    "        if not (count % 500):\n",
    "            print(\"Iteration: {}, Loss: {}, Accuracy: {}%\".format(count, loss.data, accuracy))"
   ]
  },
  {
   "cell_type": "code",
   "execution_count": 33,
   "id": "913a37d9",
   "metadata": {},
   "outputs": [
    {
     "name": "stdout",
     "output_type": "stream",
     "text": [
      "Accuracy of T-shirt/Top: 88.90%\n",
      "Accuracy of Trouser: 99.10%\n",
      "Accuracy of Pullover: 77.00%\n",
      "Accuracy of Dress: 89.70%\n",
      "Accuracy of Coat: 86.50%\n",
      "Accuracy of Sandal: 96.70%\n",
      "Accuracy of Shirt: 70.50%\n",
      "Accuracy of Sneaker: 96.80%\n",
      "Accuracy of Bag: 99.10%\n",
      "Accuracy of Ankle Boot: 97.20%\n"
     ]
    }
   ],
   "source": [
    "class_correct = [0. for _ in range(10)]\n",
    "total_correct = [0. for _ in range(10)]\n",
    "\n",
    "with torch.no_grad():\n",
    "    for images, labels in test_loader:\n",
    "        images, labels = images.to(device), labels.to(device)\n",
    "        test = Variable(images)\n",
    "        outputs = model(test)\n",
    "        predicted = torch.max(outputs, 1)[1]\n",
    "        c = (predicted == labels).squeeze()\n",
    "        \n",
    "        for i in range(100):\n",
    "            label = labels[i]\n",
    "            class_correct[label] += c[i].item()\n",
    "            total_correct[label] += 1\n",
    "        \n",
    "for i in range(10):\n",
    "    print(\"Accuracy of {}: {:.2f}%\".format(output_label(i), class_correct[i] * 100 / total_correct[i]))"
   ]
  },
  {
   "cell_type": "code",
   "execution_count": 174,
   "id": "f05f67fb",
   "metadata": {},
   "outputs": [],
   "source": [
    "torch.save(model.state_dict(), 'MNIST_FASHION')"
   ]
  },
  {
   "cell_type": "code",
   "execution_count": 175,
   "id": "bcb647c9",
   "metadata": {},
   "outputs": [
    {
     "data": {
      "text/plain": [
       "FashionCNN(\n",
       "  (layer1): Sequential(\n",
       "    (0): Conv2d(1, 32, kernel_size=(3, 3), stride=(1, 1), padding=(1, 1))\n",
       "    (1): BatchNorm2d(32, eps=1e-05, momentum=0.1, affine=True, track_running_stats=True)\n",
       "    (2): ReLU()\n",
       "    (3): MaxPool2d(kernel_size=2, stride=2, padding=0, dilation=1, ceil_mode=False)\n",
       "  )\n",
       "  (layer2): Sequential(\n",
       "    (0): Conv2d(32, 64, kernel_size=(3, 3), stride=(1, 1))\n",
       "    (1): BatchNorm2d(64, eps=1e-05, momentum=0.1, affine=True, track_running_stats=True)\n",
       "    (2): ReLU()\n",
       "    (3): MaxPool2d(kernel_size=2, stride=2, padding=0, dilation=1, ceil_mode=False)\n",
       "  )\n",
       "  (fc1): Linear(in_features=2304, out_features=600, bias=True)\n",
       "  (drop): Dropout2d(p=0.25, inplace=False)\n",
       "  (fc2): Linear(in_features=600, out_features=120, bias=True)\n",
       "  (fc3): Linear(in_features=120, out_features=10, bias=True)\n",
       ")"
      ]
     },
     "execution_count": 175,
     "metadata": {},
     "output_type": "execute_result"
    }
   ],
   "source": [
    "model = FashionCNN()\n",
    "model.load_state_dict(torch.load('MNIST_FASHION'))\n",
    "model.eval()"
   ]
  },
  {
   "cell_type": "code",
   "execution_count": 160,
   "id": "5b64beaa",
   "metadata": {},
   "outputs": [
    {
     "data": {
      "text/plain": [
       "tensor([[-6.4294e+00, -1.9024e-01, -6.8505e+00, -9.0532e+00, -5.8263e+00,\n",
       "          8.1581e+00, -6.9230e+00,  1.0970e+01,  1.7246e+00,  1.8528e+01],\n",
       "        [ 3.2438e+00, -4.1456e+00,  6.5688e+00,  2.9369e+00,  1.0743e+00,\n",
       "         -6.6487e+00, -1.2816e+00, -2.0793e+00, -3.3780e+00, -5.4144e+00],\n",
       "        [ 1.7750e+00,  1.9374e+01, -2.9794e+00, -2.6200e-01, -4.8472e+00,\n",
       "         -1.1251e+00, -5.4707e+00, -2.8795e+00,  1.3188e+00, -6.2437e-01],\n",
       "        [ 6.5659e-01,  1.9638e+01, -4.4004e+00,  9.2714e-02, -1.6266e+00,\n",
       "          1.0744e-02, -2.6886e+00, -1.8500e+00,  3.0427e-01, -1.5973e+00],\n",
       "        [ 6.8764e+00,  1.0909e+00,  3.5016e+00,  1.2184e+00,  5.4617e+00,\n",
       "         -6.3004e+00,  8.6395e+00, -5.2009e+00, -2.7541e+00, -6.1519e+00],\n",
       "        [ 3.2367e-01,  2.2555e+01, -3.4282e+00, -2.3594e+00, -2.9088e+00,\n",
       "          1.3528e+00, -6.8456e+00, -2.3711e+00,  2.6329e+00, -1.0766e-01],\n",
       "        [ 6.3272e+00,  1.1152e+00,  8.3911e+00,  6.3579e+00,  1.3222e+01,\n",
       "         -5.2645e+00,  7.9073e+00, -1.1799e+01, -7.8828e+00, -1.0733e+01],\n",
       "        [ 6.9526e-01, -2.3911e+00,  3.7933e+00,  4.8532e-01,  5.5645e+00,\n",
       "         -2.8618e+00,  8.7847e+00, -6.6785e+00,  2.5073e+00, -7.6222e+00],\n",
       "        [-4.5992e+00, -8.4441e+00, -6.3985e+00, -4.6931e+00, -9.1157e+00,\n",
       "          1.9025e+01, -8.4675e+00,  5.6697e+00,  1.1792e-01, -5.0860e-01],\n",
       "        [-5.1150e+00, -7.3918e+00, -5.5105e+00, -1.2271e+01, -1.0910e+01,\n",
       "          7.4992e+00, -1.1051e+01,  2.2947e+01, -1.9826e+00,  9.8850e+00],\n",
       "        [ 2.4321e+00,  7.4721e-01,  4.3868e+00, -1.3776e+00,  1.1243e+01,\n",
       "         -1.4239e+00,  6.1262e+00, -2.6406e+00, -3.3586e+00, -2.8037e+00],\n",
       "        [-5.5954e-01, -2.6066e+00, -1.2823e+00, -5.7855e+00,  2.4894e+00,\n",
       "          1.1069e+01, -3.2376e+00,  4.8567e+00, -3.6885e+00,  3.8613e-01],\n",
       "        [-1.0087e+01, -6.8682e+00, -7.7003e+00, -5.5952e+00, -1.0350e+01,\n",
       "          1.3855e+01, -1.3245e+01,  1.2346e+01,  6.6804e+00,  6.9817e+00],\n",
       "        [ 2.2182e+00, -1.3383e+00, -2.4155e+00,  1.3615e+01, -2.8827e+00,\n",
       "         -6.2199e+00, -1.5843e+00, -4.7675e+00, -4.3490e+00, -6.8493e-01],\n",
       "        [ 1.9025e+00, -1.5766e+00,  5.7979e+00,  9.9740e-01,  8.0604e+00,\n",
       "         -4.6438e+00,  2.8354e+00, -2.9139e+00, -1.3419e+00, -3.3193e+00],\n",
       "        [ 1.9110e+00,  2.0152e+01, -2.3681e+00,  1.0829e-01, -7.0816e-02,\n",
       "         -1.4065e+00, -2.3061e+00, -2.6058e+00, -1.7201e+00, -2.8889e+00],\n",
       "        [ 4.1733e+00, -1.8439e+00,  8.1526e+00, -3.3926e+00,  2.0947e+00,\n",
       "         -7.3752e+00,  7.0908e+00, -4.3724e+00, -2.5544e+00, -4.1732e+00],\n",
       "        [-1.8416e+00, -3.4985e+00,  2.6565e+00, -1.3284e+00,  4.0051e+00,\n",
       "          7.7500e-01,  4.9516e+00, -4.9812e+00,  2.6892e+00, -2.5504e+00],\n",
       "        [-3.9103e-01,  3.0962e-01, -2.0738e+00, -8.5791e+00, -4.2877e+00,\n",
       "         -4.1385e-01, -1.6792e+00,  2.2208e+00,  2.1913e+01,  1.6061e+00],\n",
       "        [ 1.2445e+01, -6.1815e-01,  1.6605e+00, -3.5203e-01, -4.3217e+00,\n",
       "         -5.0796e+00,  7.2668e+00, -4.1689e+00, -1.5752e+00, -7.6822e+00],\n",
       "        [ 1.7463e+00,  1.2535e+00,  6.6587e+00, -2.0049e+00,  2.9048e+00,\n",
       "         -5.6883e+00,  3.5151e+00, -3.5050e+00, -2.6795e+00, -2.9635e+00],\n",
       "        [-7.4760e+00, -1.7605e+00, -7.7852e+00, -1.0268e+01, -6.8499e+00,\n",
       "          1.9957e+01, -1.2536e+01,  1.2846e+01,  1.8282e+00,  5.3685e+00],\n",
       "        [-7.1153e+00,  1.7435e-01, -7.2675e+00, -9.9049e+00, -8.5696e+00,\n",
       "          8.1404e+00, -1.2457e+01,  1.9730e+01,  1.9784e+00,  9.3404e+00],\n",
       "        [-7.7936e+00, -2.1507e+00, -6.7245e+00, -1.5299e+01, -1.1106e+01,\n",
       "          2.1160e+01, -1.0858e+01,  9.9011e+00,  2.1865e-01,  1.5103e+01],\n",
       "        [ 1.2007e+00,  2.0997e+01, -1.5250e+00, -1.5660e+00,  4.5377e-01,\n",
       "         -2.6673e+00, -3.9549e+00, -7.0587e-01, -6.4127e-02, -1.1607e+00],\n",
       "        [ 4.0662e+00,  1.9657e+00,  8.1363e+00, -3.9878e-01,  8.4243e+00,\n",
       "         -5.3538e+00,  7.6347e+00, -6.9591e+00, -6.1517e+00, -6.9082e+00],\n",
       "        [ 3.5733e+00, -2.9765e+00,  2.6274e+00, -3.3801e+00,  5.8678e+00,\n",
       "         -2.6850e+00,  9.3874e+00, -1.5746e+00,  7.1615e-01, -3.0214e+00],\n",
       "        [ 7.5885e+00,  1.7321e+00, -1.7567e+00,  4.8654e-01, -4.4983e+00,\n",
       "         -5.0325e+00,  4.7056e+00, -1.8638e+00,  3.7747e-01, -1.6462e+00],\n",
       "        [-5.2152e+00,  2.3818e+00, -6.0970e+00, -5.8189e+00, -5.7515e+00,\n",
       "          2.5888e+00, -5.8086e+00,  9.9559e+00,  8.2091e-01,  1.6658e+01],\n",
       "        [ 4.5709e+00, -5.3963e-01, -1.4187e+00,  8.4861e+00,  2.9775e+00,\n",
       "         -4.7957e+00,  3.6894e+00, -4.5941e+00, -2.3303e+00, -2.9620e+00],\n",
       "        [-1.5577e+00,  9.6390e-01, -8.3131e+00, -2.7462e+00, -2.4539e+00,\n",
       "          2.1389e+00, -1.1700e+00, -1.0002e+00,  2.7933e+01, -1.6397e-01],\n",
       "        [-2.4935e+00, -1.3027e+00, -6.1349e+00, -9.8094e-01, -3.5805e+00,\n",
       "          4.0151e+00, -4.2469e+00, -8.3654e-01,  1.6666e+01,  2.8732e+00],\n",
       "        [-1.2957e+00,  7.8189e+00, -5.4703e+00,  5.3051e+00, -1.4362e+00,\n",
       "          1.4062e+00, -3.3023e+00, -1.4575e+00, -9.7517e-01,  1.7461e+00],\n",
       "        [ 1.3835e+00, -3.8468e+00, -3.5704e+00,  6.3751e+00, -8.4045e-01,\n",
       "         -9.4275e-01, -1.0814e-01, -2.0726e+00,  2.3757e+00, -1.0089e+00],\n",
       "        [-1.2661e+00, -7.1458e+00, -8.8685e-01, -4.4437e+00, -5.6534e-01,\n",
       "          6.8111e+00, -3.5412e+00,  7.2917e-01,  1.5713e+01, -6.4865e+00],\n",
       "        [ 1.1621e+01, -5.8026e-01,  1.1845e+00, -6.7377e-02, -2.2621e+00,\n",
       "         -7.4369e+00,  8.2465e+00, -4.5154e+00,  1.3623e+00, -5.5044e+00],\n",
       "        [-7.3730e+00, -3.7819e+00, -9.2781e+00, -1.0917e+01, -1.3935e+01,\n",
       "          9.3979e+00, -1.6255e+01,  2.5472e+01,  1.1168e+00,  1.0028e+01],\n",
       "        [-6.1213e+00, -9.1595e+00, -6.4354e+00, -5.1345e+00, -9.0120e+00,\n",
       "          1.6262e+01, -1.0175e+01,  9.6225e+00, -5.9976e-01,  4.7011e+00],\n",
       "        [-6.6926e+00, -4.7272e+00, -6.1780e+00, -1.2676e+01, -1.3003e+01,\n",
       "          8.0787e+00, -1.2434e+01,  2.1838e+01, -1.3823e+00,  1.3136e+01],\n",
       "        [-6.2345e+00,  1.1694e+00, -9.7920e+00, -3.8770e+00, -5.6817e+00,\n",
       "          3.5889e+00, -4.6891e+00,  9.9927e+00, -4.1376e-01,  2.3052e+01],\n",
       "        [ 9.7037e+00,  1.6689e-01, -2.5714e+00,  3.1873e-01, -1.2036e-01,\n",
       "         -3.3011e+00,  1.0749e+01, -2.3589e+00, -1.7248e+00, -4.0660e+00],\n",
       "        [ 9.7203e-03,  1.9492e+01, -3.4196e+00, -2.6054e-01, -5.0433e+00,\n",
       "         -8.3849e-01, -5.5183e+00, -5.3984e-01, -2.5841e+00,  1.4754e+00],\n",
       "        [ 5.6014e+00,  3.9405e+00,  3.4679e-02,  1.2302e+00, -1.5634e+00,\n",
       "         -4.5049e+00,  3.8515e+00, -3.7582e+00,  8.7241e-01, -4.4892e+00],\n",
       "        [-6.0026e+00, -1.3260e-01, -7.4819e+00, -5.8704e+00, -6.7096e+00,\n",
       "          2.8370e+00, -6.5320e+00,  1.5571e+01, -9.0370e-01,  1.5361e+01],\n",
       "        [-3.8698e-01,  6.2004e-01, -5.4335e-01, -2.9200e+00,  3.6758e+00,\n",
       "          2.0527e-01,  7.9372e+00, -1.4376e+00, -1.7028e-01, -8.1651e-03],\n",
       "        [-3.2059e+00, -3.6232e+00, -4.5695e+00, -7.6487e+00, -5.0670e+00,\n",
       "          4.4975e+00, -6.5327e+00,  1.4502e+01,  1.9934e+00,  7.5712e+00],\n",
       "        [ 3.1849e-01, -2.5069e+00,  4.6775e+00, -2.7370e+00, -5.3776e-01,\n",
       "         -1.3441e+00,  1.7843e+00, -2.9543e+00, -3.1004e-01, -2.3221e+00],\n",
       "        [ 7.4941e-01,  1.1389e+01, -3.9958e+00,  1.0578e+00, -4.4829e+00,\n",
       "          1.9246e-01, -3.0215e+00, -6.2643e-01, -6.5559e-01, -1.7337e-01],\n",
       "        [ 2.4246e+00, -1.2127e+00,  5.4043e+00,  1.7079e+00,  6.1635e+00,\n",
       "         -2.3780e+00,  6.1266e+00, -7.5538e+00, -2.4115e+00, -6.8312e+00],\n",
       "        [ 6.3211e-02, -1.0706e+00,  2.6091e+00, -1.9445e-02,  1.2374e+00,\n",
       "         -2.5088e+00,  4.9339e+00, -4.1114e+00,  2.9217e-01, -3.1333e+00],\n",
       "        [ 4.0390e+00, -7.2674e-01,  3.7227e+00, -2.0481e+00,  1.1794e+01,\n",
       "         -3.1126e+00,  8.1361e+00, -2.6770e+00,  2.7834e-01, -3.3271e+00],\n",
       "        [ 2.0257e+00, -1.2168e+00,  5.3877e+00, -9.1135e-01,  8.1027e+00,\n",
       "         -1.5053e+00,  5.8194e+00, -3.9645e+00, -2.8472e+00, -5.3744e+00],\n",
       "        [-3.4314e+00, -2.7920e+00, -6.5231e+00, -4.8380e+00, -5.8204e+00,\n",
       "          1.9560e+01, -7.5453e+00,  4.3363e+00, -1.7328e+00, -1.3101e+00],\n",
       "        [-2.3904e+00, -2.7554e+00, -7.5635e+00, -2.4223e+00, -6.8578e+00,\n",
       "          2.5150e+00,  1.7995e+00, -1.4115e-02,  1.7192e+01,  2.7683e+00],\n",
       "        [ 2.6185e+00, -1.0265e+00,  7.4645e+00,  5.7737e-02,  2.1311e+00,\n",
       "         -5.5644e+00, -4.5787e-01, -2.8369e+00, -2.4586e+00, -4.2476e+00],\n",
       "        [ 6.8053e+00, -3.8253e+00,  1.1970e+01,  9.5452e-01,  4.1157e+00,\n",
       "         -1.1365e+01,  8.8922e+00, -7.8233e+00, -8.4118e+00, -8.6099e+00],\n",
       "        [ 4.7301e-01, -2.6679e-01, -3.4741e+00, -8.6300e+00, -4.8774e+00,\n",
       "          2.9700e+00,  5.0180e-01, -1.9376e+00,  2.8299e+01, -3.8945e+00],\n",
       "        [ 1.7391e+00, -2.5430e+00,  5.1267e+00,  1.2729e+00,  1.0396e+01,\n",
       "         -5.4707e+00,  9.3828e+00, -4.4237e+00, -2.7052e+00, -3.9958e+00],\n",
       "        [ 1.4456e+00,  3.1794e+00, -3.5919e+00, -5.0680e+00, -3.5732e+00,\n",
       "         -1.0015e+00, -2.8588e-01, -7.5893e-01,  2.0079e+01,  3.9755e-01],\n",
       "        [ 1.6559e+01,  2.8630e+00,  6.7421e+00,  1.9382e+00,  2.6466e+00,\n",
       "         -1.1485e+01,  9.6443e+00, -8.4038e+00, -6.1463e+00, -9.8074e+00],\n",
       "        [-5.1740e+00, -3.7366e+00, -5.5091e+00, -9.1096e+00, -6.7826e+00,\n",
       "          9.4722e+00, -1.0687e+01,  1.6963e+01, -6.7421e-01,  7.6365e+00],\n",
       "        [-7.0251e+00, -1.8700e+00, -7.1231e+00, -6.5576e+00, -7.3746e+00,\n",
       "          9.0424e+00, -9.8734e+00,  1.5408e+01, -4.5539e-01,  9.7068e+00],\n",
       "        [-2.8167e+00, -3.7600e+00, -4.5958e+00, -4.1892e+00, -2.3322e+00,\n",
       "          1.9115e+00, -3.8377e+00,  3.5965e+00,  2.0855e+01,  1.4845e+00],\n",
       "        [-1.5074e+00, -3.3148e+00, -3.1182e+00, -8.2848e+00, -2.7196e+00,\n",
       "          1.8464e+01, -4.9391e+00,  2.8274e+00, -2.7745e+00,  6.9198e-01],\n",
       "        [ 2.8889e+00,  2.2412e+01, -1.1242e+00, -2.3955e+00, -6.0476e-01,\n",
       "          7.8931e-01, -5.1152e+00, -4.1674e+00, -7.3053e-01, -1.6703e+00],\n",
       "        [ 1.4970e+00,  1.4692e+01, -3.9733e+00,  2.4975e-01, -1.5440e+00,\n",
       "         -2.0961e+00, -1.1502e+00,  1.8210e-01,  3.0356e-01, -2.9025e-01],\n",
       "        [ 3.1134e+00, -4.6494e-01,  4.9643e+00,  3.2223e+00,  2.6976e+00,\n",
       "         -5.3746e+00,  2.3029e+00, -5.4643e+00, -2.5889e+00, -4.1267e+00],\n",
       "        [ 3.1994e+00, -2.4273e+00,  1.6217e-01,  8.8923e+00,  6.5266e+00,\n",
       "         -4.6360e+00,  2.6036e-01, -2.8407e+00, -1.9214e+00, -2.4626e+00],\n",
       "        [-6.1002e+00, -5.4926e+00, -5.5091e+00, -3.5098e+00, -5.6895e+00,\n",
       "          8.0291e+00, -8.4143e+00,  1.2166e+01, -2.1223e-01,  6.8111e+00],\n",
       "        [-3.7117e+00, -9.6797e-01, -9.9143e+00, -8.7285e-01, -7.8881e+00,\n",
       "          2.8566e+00, -5.2870e+00,  9.8758e-01,  2.6804e+01,  2.3904e+00],\n",
       "        [-6.4254e+00, -4.7927e+00, -6.1103e+00, -7.0665e+00, -4.4526e+00,\n",
       "          5.8047e+00, -1.0257e+01,  1.9973e+01,  1.2625e+00,  7.8871e+00],\n",
       "        [ 1.4101e+01,  1.8200e+00,  4.6716e+00,  1.7382e+00, -4.0528e-01,\n",
       "         -8.8472e+00,  9.2358e+00, -6.9344e+00, -6.7412e+00, -9.1411e+00],\n",
       "        [ 4.4409e+00, -2.1744e+00,  1.0260e+01, -3.6593e-01,  2.7831e+00,\n",
       "         -1.0424e+01,  6.4177e+00, -6.1240e+00, -4.3405e+00, -5.4687e+00],\n",
       "        [ 4.1635e+00, -1.2898e+00,  1.4995e+00, -1.6246e+00, -1.9859e+00,\n",
       "         -4.8506e+00,  6.1112e+00, -2.5402e+00,  2.3898e+00, -3.8482e+00],\n",
       "        [ 2.7681e-01, -1.5782e+00,  7.9583e+00, -2.2107e+00,  6.9445e+00,\n",
       "         -3.8595e+00, -6.7540e-01, -4.8128e-01, -1.5455e+00, -1.4659e+00],\n",
       "        [ 4.5969e+00,  2.1750e+00, -8.9285e-01,  6.7427e+00,  1.1548e+00,\n",
       "         -7.0059e+00,  2.9481e+00, -3.0580e+00, -1.2853e+00, -2.7607e+00],\n",
       "        [ 2.1800e+00,  3.0414e+01, -2.6323e+00, -3.8988e+00, -1.2862e-01,\n",
       "          6.6236e-01, -6.0470e+00, -1.6467e+00, -2.0997e+00, -2.6521e+00],\n",
       "        [ 1.4895e+00, -4.1159e+00,  9.9919e+00, -3.6066e+00,  2.9866e+00,\n",
       "         -5.3209e+00,  2.0546e+00, -1.7694e+00, -3.7065e+00, -4.1093e+00],\n",
       "        [-2.1540e-01,  3.6046e+00, -5.4275e+00, -7.3453e+00, -8.0625e+00,\n",
       "         -2.3539e+00, -2.6429e+00,  3.9101e+00,  2.2170e+01,  2.5858e+00],\n",
       "        [ 1.7353e+00,  4.6468e-01,  1.8416e+00,  1.0658e+00,  1.1741e+01,\n",
       "         -2.2584e+00,  4.7591e+00, -2.8440e+00,  1.3080e+00, -1.1240e+00],\n",
       "        [ 2.6925e+00,  1.6628e+01, -8.3588e-01, -1.7787e+00,  1.6732e+00,\n",
       "         -1.1095e+00, -7.6162e-02, -1.7540e+00, -1.1331e+00, -4.6995e+00],\n",
       "        [-2.3979e+00, -8.7321e-01, -5.0899e+00, -2.3276e+00, -1.8718e-02,\n",
       "         -3.8028e+00, -1.0658e+00,  1.4305e+00,  2.6648e+01,  2.5680e+00],\n",
       "        [-5.3697e+00, -9.7442e+00, -1.0451e+01, -8.5667e+00, -4.8757e+00,\n",
       "          2.9004e+01, -1.0762e+01,  5.6103e+00,  5.6711e+00,  8.4795e+00],\n",
       "        [-7.2527e+00,  7.8443e-01, -8.4446e+00, -5.8275e+00, -8.5581e+00,\n",
       "          1.2508e+00, -7.4318e+00,  1.1852e+01,  1.4437e+00,  2.6885e+01],\n",
       "        [-3.6675e+00, -4.8088e+00, -2.8271e+00, -1.0192e+01, -2.1847e+00,\n",
       "          2.0117e+01, -5.4989e+00,  4.4814e+00, -1.9887e+00,  9.4176e-01],\n",
       "        [ 1.4061e+01, -6.1861e-01, -9.3450e-01,  1.0386e+00, -6.3155e-01,\n",
       "         -3.2917e+00,  6.7756e+00, -3.8665e+00,  1.3222e+00, -6.5215e+00],\n",
       "        [ 3.6725e+00,  3.1315e+00, -3.3896e+00,  8.1752e+00, -1.8487e+00,\n",
       "         -4.2996e+00, -1.7338e+00, -1.7491e+00, -1.2890e+00, -1.0402e+00],\n",
       "        [ 1.0679e+00,  1.2436e+00,  1.0001e+01,  1.5286e+00,  5.2385e+00,\n",
       "         -9.8504e+00, -5.0403e-01, -4.0943e+00, -2.6061e+00, -4.8304e+00],\n",
       "        [ 1.1197e+01, -6.1347e-01,  9.2819e-01,  1.5912e+00, -5.9762e+00,\n",
       "         -6.1335e+00,  3.5414e+00, -3.2877e+00, -1.3461e+00, -4.3199e+00],\n",
       "        [ 2.3643e+00, -1.7425e+00,  3.2534e+00, -1.1411e+00,  1.2162e-01,\n",
       "         -6.0440e+00,  8.1831e+00, -2.5051e+00, -2.2142e+00, -3.3456e+00],\n",
       "        [-5.4580e+00, -6.6281e+00, -3.9050e+00, -6.3287e+00, -6.0084e+00,\n",
       "          1.6480e+01, -5.3462e+00,  4.9698e+00, -2.7072e+00,  1.5038e+00],\n",
       "        [ 3.2168e+00,  5.7466e+00, -8.2745e-01,  7.6822e+00, -4.1881e+00,\n",
       "         -6.4913e+00, -1.5287e+00, -3.2243e+00, -3.9976e+00, -3.4991e+00],\n",
       "        [ 1.1821e+00, -3.6125e+00,  2.0530e+00, -2.0361e+00,  3.6720e+00,\n",
       "         -3.6402e+00,  9.4296e+00, -2.8776e+00,  2.2161e+00, -1.5304e+00],\n",
       "        [-4.9682e+00, -1.3089e+00, -5.9431e+00, -7.8132e+00, -8.0242e+00,\n",
       "          5.4633e+00, -1.0219e+01,  1.7417e+01,  4.4211e-02,  8.3825e+00],\n",
       "        [-3.4395e-01,  1.9112e+01, -2.3050e+00,  3.6317e-01, -1.6193e+00,\n",
       "         -2.4034e+00, -4.2505e+00, -6.0505e-01, -2.7438e+00,  9.3259e-01],\n",
       "        [-1.9547e+00, -2.0575e+00, -3.4757e+00, -6.5516e+00, -6.6316e+00,\n",
       "          7.5809e+00, -2.8050e+00, -3.0754e-01,  1.6540e+01, -2.3763e+00],\n",
       "        [ 8.0922e+00, -1.0125e-02,  1.4923e+00, -8.9017e-01, -2.2110e+00,\n",
       "         -3.1540e+00,  4.5634e+00, -3.5944e+00, -2.8337e-01, -4.9197e+00],\n",
       "        [ 2.1765e+00,  2.1525e+01, -3.0743e+00, -1.6760e+00, -9.2308e-01,\n",
       "         -5.6734e-01, -3.3063e+00, -1.3357e+00, -2.1527e+00, -2.9675e-01],\n",
       "        [ 1.3810e+00,  1.3662e+00,  2.3676e+00,  1.6440e+00,  2.6561e+00,\n",
       "         -4.2226e+00, -3.1150e-01, -2.2697e+00,  3.0590e+00, -3.6528e+00],\n",
       "        [ 3.1836e+00, -1.2649e+00,  9.0409e+00, -2.1599e+00,  5.2647e+00,\n",
       "         -6.0429e+00,  5.3444e+00, -4.0092e+00, -5.3273e+00, -4.7835e+00]],\n",
       "       grad_fn=<AddmmBackward0>)"
      ]
     },
     "execution_count": 160,
     "metadata": {},
     "output_type": "execute_result"
    }
   ],
   "source": [
    "model1(next(iter(test_loader))[0])"
   ]
  },
  {
   "cell_type": "code",
   "execution_count": 166,
   "id": "dd0d5986",
   "metadata": {},
   "outputs": [
    {
     "data": {
      "text/plain": [
       "torch.Size([1, 28, 28])"
      ]
     },
     "execution_count": 166,
     "metadata": {},
     "output_type": "execute_result"
    }
   ],
   "source": [
    "next(iter(test_loader))[0][0].shape"
   ]
  },
  {
   "cell_type": "code",
   "execution_count": null,
   "id": "9b7c6d74",
   "metadata": {},
   "outputs": [],
   "source": []
  },
  {
   "cell_type": "code",
   "execution_count": 42,
   "id": "15483ce3",
   "metadata": {},
   "outputs": [],
   "source": [
    "model_scripted = torch.jit.script(model)"
   ]
  },
  {
   "cell_type": "code",
   "execution_count": 43,
   "id": "a887160b",
   "metadata": {},
   "outputs": [],
   "source": [
    "model_scripted.save('model_scripted.pt')"
   ]
  },
  {
   "cell_type": "code",
   "execution_count": 230,
   "id": "e2607090",
   "metadata": {},
   "outputs": [
    {
     "data": {
      "text/plain": [
       "RecursiveScriptModule(\n",
       "  original_name=FashionCNN\n",
       "  (layer1): RecursiveScriptModule(\n",
       "    original_name=Sequential\n",
       "    (0): RecursiveScriptModule(original_name=Conv2d)\n",
       "    (1): RecursiveScriptModule(original_name=BatchNorm2d)\n",
       "    (2): RecursiveScriptModule(original_name=ReLU)\n",
       "    (3): RecursiveScriptModule(original_name=MaxPool2d)\n",
       "  )\n",
       "  (layer2): RecursiveScriptModule(\n",
       "    original_name=Sequential\n",
       "    (0): RecursiveScriptModule(original_name=Conv2d)\n",
       "    (1): RecursiveScriptModule(original_name=BatchNorm2d)\n",
       "    (2): RecursiveScriptModule(original_name=ReLU)\n",
       "    (3): RecursiveScriptModule(original_name=MaxPool2d)\n",
       "  )\n",
       "  (fc1): RecursiveScriptModule(original_name=Linear)\n",
       "  (drop): RecursiveScriptModule(original_name=Dropout2d)\n",
       "  (fc2): RecursiveScriptModule(original_name=Linear)\n",
       "  (fc3): RecursiveScriptModule(original_name=Linear)\n",
       ")"
      ]
     },
     "execution_count": 230,
     "metadata": {},
     "output_type": "execute_result"
    }
   ],
   "source": [
    "model = torch.jit.load('model_scripted.pt')\n",
    "model.eval()"
   ]
  },
  {
   "cell_type": "code",
   "execution_count": 170,
   "id": "9d62c85d",
   "metadata": {},
   "outputs": [],
   "source": [
    "outputs=model(next(iter(test_loader))[0])\n",
    "predicted = torch.max(outputs, 1)[1]\n",
    "c = (predicted == labels).squeeze()"
   ]
  },
  {
   "cell_type": "code",
   "execution_count": 109,
   "id": "f49ab963",
   "metadata": {},
   "outputs": [
    {
     "data": {
      "text/plain": [
       "torch.Size([100, 1, 28, 28])"
      ]
     },
     "execution_count": 109,
     "metadata": {},
     "output_type": "execute_result"
    }
   ],
   "source": []
  },
  {
   "cell_type": "code",
   "execution_count": 67,
   "id": "a09a92aa",
   "metadata": {},
   "outputs": [
    {
     "data": {
      "text/plain": [
       "torch.Size([1, 28, 28])"
      ]
     },
     "execution_count": 67,
     "metadata": {},
     "output_type": "execute_result"
    }
   ],
   "source": [
    "test_set[0][0].shape"
   ]
  },
  {
   "cell_type": "code",
   "execution_count": 84,
   "id": "fe41d94e",
   "metadata": {},
   "outputs": [],
   "source": [
    "from PIL import ImageEnhance"
   ]
  },
  {
   "cell_type": "code",
   "execution_count": 116,
   "id": "364c02a5",
   "metadata": {},
   "outputs": [],
   "source": [
    "import io\n",
    "from skimage import color\n",
    "from skimage import io\n"
   ]
  },
  {
   "cell_type": "code",
   "execution_count": 225,
   "id": "329c79f5",
   "metadata": {},
   "outputs": [],
   "source": [
    "def prepare_image(img):\n",
    "    img = Image.open(img)\n",
    "    img = img.resize((28, 28))\n",
    "    img = img.convert('L')\n",
    "    img = np.array(img)\n",
    "    img = np.expand_dims(img, 0)\n",
    "    img = torch.tensor(img)\n",
    "    img=img[None,:]\n",
    "    img=img.float()\n",
    "    return img\n",
    "\n",
    "\n",
    "def predict_result(img,model=model):\n",
    "    outputs=model(img)\n",
    "    predicted = torch.max(outputs, 1)[1]\n",
    "    return predicted\n",
    "    "
   ]
  },
  {
   "cell_type": "code",
   "execution_count": 231,
   "id": "1e6b6119",
   "metadata": {},
   "outputs": [],
   "source": [
    "img = '../testtshirt.jpeg'"
   ]
  },
  {
   "cell_type": "code",
   "execution_count": 232,
   "id": "2cd8018a",
   "metadata": {},
   "outputs": [],
   "source": [
    "k=prepare_image(img)"
   ]
  },
  {
   "cell_type": "code",
   "execution_count": 238,
   "id": "1158cdbe",
   "metadata": {},
   "outputs": [],
   "source": [
    "pred=predict_result(k)"
   ]
  },
  {
   "cell_type": "code",
   "execution_count": 245,
   "id": "d8a1ea0a",
   "metadata": {},
   "outputs": [
    {
     "data": {
      "text/plain": [
       "8"
      ]
     },
     "execution_count": 245,
     "metadata": {},
     "output_type": "execute_result"
    }
   ],
   "source": [
    "int(pred)"
   ]
  },
  {
   "cell_type": "code",
   "execution_count": 247,
   "id": "e6b704b9",
   "metadata": {},
   "outputs": [
    {
     "data": {
      "text/plain": [
       "'Bag'"
      ]
     },
     "execution_count": 247,
     "metadata": {},
     "output_type": "execute_result"
    }
   ],
   "source": [
    "output_mapping[int(pred)]"
   ]
  },
  {
   "cell_type": "code",
   "execution_count": 219,
   "id": "9b290c82",
   "metadata": {},
   "outputs": [
    {
     "data": {
      "text/plain": [
       "<matplotlib.image.AxesImage at 0x7fbc85fddc70>"
      ]
     },
     "execution_count": 219,
     "metadata": {},
     "output_type": "execute_result"
    },
    {
     "data": {
      "image/png": "[encoded data removed]",
      "text/plain": [
       "<Figure size 432x288 with 1 Axes>"
      ]
     },
     "metadata": {
      "needs_background": "light"
     },
     "output_type": "display_data"
    }
   ],
   "source": [
    "plt.imshow(k[0][0],cmap='Greys_r')"
   ]
  },
  {
   "cell_type": "code",
   "execution_count": 201,
   "id": "e52abc17",
   "metadata": {},
   "outputs": [
    {
     "data": {
      "text/plain": [
       "torch.float32"
      ]
     },
     "execution_count": 201,
     "metadata": {},
     "output_type": "execute_result"
    }
   ],
   "source": []
  },
  {
   "cell_type": "code",
   "execution_count": 241,
   "id": "4ae5931d",
   "metadata": {},
   "outputs": [],
   "source": [
    " output_mapping = {\n",
    "                 0: \"T-shirt/Top\",\n",
    "                 1: \"Trouser\",\n",
    "                 2: \"Pullover\",\n",
    "                 3: \"Dress\",\n",
    "                 4: \"Coat\", \n",
    "                 5: \"Sandal\", \n",
    "                 6: \"Shirt\",\n",
    "                 7: \"Sneaker\",\n",
    "                 8: \"Bag\",\n",
    "                 9: \"Ankle Boot\"\n",
    "                 }"
   ]
  },
  {
   "cell_type": "code",
   "execution_count": 202,
   "id": "52ef542a",
   "metadata": {},
   "outputs": [
    {
     "data": {
      "text/plain": [
       "tensor([False, False, False,  True, False, False, False, False, False, False,\n",
       "        False, False, False, False, False, False, False, False, False,  True,\n",
       "         True,  True, False,  True, False,  True, False, False, False, False,\n",
       "        False, False,  True, False, False, False, False, False, False, False,\n",
       "        False, False, False, False, False, False, False, False, False, False,\n",
       "        False, False,  True, False, False, False, False, False, False, False,\n",
       "        False, False, False, False, False, False, False, False, False,  True,\n",
       "        False, False, False, False, False,  True, False, False, False, False,\n",
       "        False, False,  True, False, False, False, False, False,  True, False,\n",
       "        False, False,  True, False, False, False, False,  True, False, False])"
      ]
     },
     "execution_count": 202,
     "metadata": {},
     "output_type": "execute_result"
    }
   ],
   "source": [
    "predict_result(k)"
   ]
  },
  {
   "cell_type": "code",
   "execution_count": null,
   "id": "95b14fbf",
   "metadata": {},
   "outputs": [],
   "source": []
  }
 ],
 "metadata": {
  "kernelspec": {
   "display_name": "Python 3 (ipykernel)",
   "language": "python",
   "name": "python3"
  },
  "language_info": {
   "codemirror_mode": {
    "name": "ipython",
    "version": 3
   },
   "file_extension": ".py",
   "mimetype": "text/x-python",
   "name": "python",
   "nbconvert_exporter": "python",
   "pygments_lexer": "ipython3",
   "version": "3.8.12"
  }
 },
 "nbformat": 4,
 "nbformat_minor": 5
}
